{
 "cells": [
  {
   "cell_type": "code",
   "execution_count": 1,
   "metadata": {
    "execution": {
     "iopub.execute_input": "2025-07-10T13:26:28.505569Z",
     "iopub.status.busy": "2025-07-10T13:26:28.505229Z",
     "iopub.status.idle": "2025-07-10T13:26:28.845188Z",
     "shell.execute_reply": "2025-07-10T13:26:28.844348Z",
     "shell.execute_reply.started": "2025-07-10T13:26:28.505541Z"
    },
    "trusted": true
   },
   "outputs": [],
   "source": [
    "import numpy as np\n",
    "import pandas as pd\n",
    "import matplotlib.pyplot as plt"
   ]
  },
  {
   "cell_type": "code",
   "execution_count": 110,
   "metadata": {
    "execution": {
     "iopub.execute_input": "2025-07-10T14:29:35.220545Z",
     "iopub.status.busy": "2025-07-10T14:29:35.219728Z",
     "iopub.status.idle": "2025-07-10T14:29:37.604352Z",
     "shell.execute_reply": "2025-07-10T14:29:37.603345Z",
     "shell.execute_reply.started": "2025-07-10T14:29:35.220505Z"
    },
    "trusted": true
   },
   "outputs": [],
   "source": [
    "data = pd.read_csv('/kaggle/input/mnist-digit-recognizer/train.csv')"
   ]
  },
  {
   "cell_type": "code",
   "execution_count": 111,
   "metadata": {
    "execution": {
     "iopub.execute_input": "2025-07-10T14:29:37.606420Z",
     "iopub.status.busy": "2025-07-10T14:29:37.606063Z",
     "iopub.status.idle": "2025-07-10T14:29:37.620911Z",
     "shell.execute_reply": "2025-07-10T14:29:37.620117Z",
     "shell.execute_reply.started": "2025-07-10T14:29:37.606390Z"
    },
    "trusted": true
   },
   "outputs": [
    {
     "data": {
      "text/html": [
       "<div>\n",
       "<style scoped>\n",
       "    .dataframe tbody tr th:only-of-type {\n",
       "        vertical-align: middle;\n",
       "    }\n",
       "\n",
       "    .dataframe tbody tr th {\n",
       "        vertical-align: top;\n",
       "    }\n",
       "\n",
       "    .dataframe thead th {\n",
       "        text-align: right;\n",
       "    }\n",
       "</style>\n",
       "<table border=\"1\" class=\"dataframe\">\n",
       "  <thead>\n",
       "    <tr style=\"text-align: right;\">\n",
       "      <th></th>\n",
       "      <th>label</th>\n",
       "      <th>pixel0</th>\n",
       "      <th>pixel1</th>\n",
       "      <th>pixel2</th>\n",
       "      <th>pixel3</th>\n",
       "      <th>pixel4</th>\n",
       "      <th>pixel5</th>\n",
       "      <th>pixel6</th>\n",
       "      <th>pixel7</th>\n",
       "      <th>pixel8</th>\n",
       "      <th>...</th>\n",
       "      <th>pixel774</th>\n",
       "      <th>pixel775</th>\n",
       "      <th>pixel776</th>\n",
       "      <th>pixel777</th>\n",
       "      <th>pixel778</th>\n",
       "      <th>pixel779</th>\n",
       "      <th>pixel780</th>\n",
       "      <th>pixel781</th>\n",
       "      <th>pixel782</th>\n",
       "      <th>pixel783</th>\n",
       "    </tr>\n",
       "  </thead>\n",
       "  <tbody>\n",
       "    <tr>\n",
       "      <th>0</th>\n",
       "      <td>1</td>\n",
       "      <td>0</td>\n",
       "      <td>0</td>\n",
       "      <td>0</td>\n",
       "      <td>0</td>\n",
       "      <td>0</td>\n",
       "      <td>0</td>\n",
       "      <td>0</td>\n",
       "      <td>0</td>\n",
       "      <td>0</td>\n",
       "      <td>...</td>\n",
       "      <td>0</td>\n",
       "      <td>0</td>\n",
       "      <td>0</td>\n",
       "      <td>0</td>\n",
       "      <td>0</td>\n",
       "      <td>0</td>\n",
       "      <td>0</td>\n",
       "      <td>0</td>\n",
       "      <td>0</td>\n",
       "      <td>0</td>\n",
       "    </tr>\n",
       "    <tr>\n",
       "      <th>1</th>\n",
       "      <td>0</td>\n",
       "      <td>0</td>\n",
       "      <td>0</td>\n",
       "      <td>0</td>\n",
       "      <td>0</td>\n",
       "      <td>0</td>\n",
       "      <td>0</td>\n",
       "      <td>0</td>\n",
       "      <td>0</td>\n",
       "      <td>0</td>\n",
       "      <td>...</td>\n",
       "      <td>0</td>\n",
       "      <td>0</td>\n",
       "      <td>0</td>\n",
       "      <td>0</td>\n",
       "      <td>0</td>\n",
       "      <td>0</td>\n",
       "      <td>0</td>\n",
       "      <td>0</td>\n",
       "      <td>0</td>\n",
       "      <td>0</td>\n",
       "    </tr>\n",
       "    <tr>\n",
       "      <th>2</th>\n",
       "      <td>1</td>\n",
       "      <td>0</td>\n",
       "      <td>0</td>\n",
       "      <td>0</td>\n",
       "      <td>0</td>\n",
       "      <td>0</td>\n",
       "      <td>0</td>\n",
       "      <td>0</td>\n",
       "      <td>0</td>\n",
       "      <td>0</td>\n",
       "      <td>...</td>\n",
       "      <td>0</td>\n",
       "      <td>0</td>\n",
       "      <td>0</td>\n",
       "      <td>0</td>\n",
       "      <td>0</td>\n",
       "      <td>0</td>\n",
       "      <td>0</td>\n",
       "      <td>0</td>\n",
       "      <td>0</td>\n",
       "      <td>0</td>\n",
       "    </tr>\n",
       "    <tr>\n",
       "      <th>3</th>\n",
       "      <td>4</td>\n",
       "      <td>0</td>\n",
       "      <td>0</td>\n",
       "      <td>0</td>\n",
       "      <td>0</td>\n",
       "      <td>0</td>\n",
       "      <td>0</td>\n",
       "      <td>0</td>\n",
       "      <td>0</td>\n",
       "      <td>0</td>\n",
       "      <td>...</td>\n",
       "      <td>0</td>\n",
       "      <td>0</td>\n",
       "      <td>0</td>\n",
       "      <td>0</td>\n",
       "      <td>0</td>\n",
       "      <td>0</td>\n",
       "      <td>0</td>\n",
       "      <td>0</td>\n",
       "      <td>0</td>\n",
       "      <td>0</td>\n",
       "    </tr>\n",
       "    <tr>\n",
       "      <th>4</th>\n",
       "      <td>0</td>\n",
       "      <td>0</td>\n",
       "      <td>0</td>\n",
       "      <td>0</td>\n",
       "      <td>0</td>\n",
       "      <td>0</td>\n",
       "      <td>0</td>\n",
       "      <td>0</td>\n",
       "      <td>0</td>\n",
       "      <td>0</td>\n",
       "      <td>...</td>\n",
       "      <td>0</td>\n",
       "      <td>0</td>\n",
       "      <td>0</td>\n",
       "      <td>0</td>\n",
       "      <td>0</td>\n",
       "      <td>0</td>\n",
       "      <td>0</td>\n",
       "      <td>0</td>\n",
       "      <td>0</td>\n",
       "      <td>0</td>\n",
       "    </tr>\n",
       "  </tbody>\n",
       "</table>\n",
       "<p>5 rows × 785 columns</p>\n",
       "</div>"
      ],
      "text/plain": [
       "   label  pixel0  pixel1  pixel2  pixel3  pixel4  pixel5  pixel6  pixel7  \\\n",
       "0      1       0       0       0       0       0       0       0       0   \n",
       "1      0       0       0       0       0       0       0       0       0   \n",
       "2      1       0       0       0       0       0       0       0       0   \n",
       "3      4       0       0       0       0       0       0       0       0   \n",
       "4      0       0       0       0       0       0       0       0       0   \n",
       "\n",
       "   pixel8  ...  pixel774  pixel775  pixel776  pixel777  pixel778  pixel779  \\\n",
       "0       0  ...         0         0         0         0         0         0   \n",
       "1       0  ...         0         0         0         0         0         0   \n",
       "2       0  ...         0         0         0         0         0         0   \n",
       "3       0  ...         0         0         0         0         0         0   \n",
       "4       0  ...         0         0         0         0         0         0   \n",
       "\n",
       "   pixel780  pixel781  pixel782  pixel783  \n",
       "0         0         0         0         0  \n",
       "1         0         0         0         0  \n",
       "2         0         0         0         0  \n",
       "3         0         0         0         0  \n",
       "4         0         0         0         0  \n",
       "\n",
       "[5 rows x 785 columns]"
      ]
     },
     "execution_count": 111,
     "metadata": {},
     "output_type": "execute_result"
    }
   ],
   "source": [
    "data.head()"
   ]
  },
  {
   "cell_type": "code",
   "execution_count": 112,
   "metadata": {
    "execution": {
     "iopub.execute_input": "2025-07-10T14:29:37.622097Z",
     "iopub.status.busy": "2025-07-10T14:29:37.621827Z",
     "iopub.status.idle": "2025-07-10T14:29:37.786552Z",
     "shell.execute_reply": "2025-07-10T14:29:37.785601Z",
     "shell.execute_reply.started": "2025-07-10T14:29:37.622054Z"
    },
    "trusted": true
   },
   "outputs": [
    {
     "data": {
      "text/plain": [
       "array([[1, 0, 0, ..., 0, 0, 0],\n",
       "       [0, 0, 0, ..., 0, 0, 0],\n",
       "       [1, 0, 0, ..., 0, 0, 0],\n",
       "       ...,\n",
       "       [7, 0, 0, ..., 0, 0, 0],\n",
       "       [6, 0, 0, ..., 0, 0, 0],\n",
       "       [9, 0, 0, ..., 0, 0, 0]])"
      ]
     },
     "execution_count": 112,
     "metadata": {},
     "output_type": "execute_result"
    }
   ],
   "source": [
    "data = np.array(data)\n",
    "data"
   ]
  },
  {
   "cell_type": "code",
   "execution_count": 113,
   "metadata": {
    "execution": {
     "iopub.execute_input": "2025-07-10T14:29:37.788777Z",
     "iopub.status.busy": "2025-07-10T14:29:37.788487Z",
     "iopub.status.idle": "2025-07-10T14:29:37.793711Z",
     "shell.execute_reply": "2025-07-10T14:29:37.792796Z",
     "shell.execute_reply.started": "2025-07-10T14:29:37.788756Z"
    },
    "trusted": true
   },
   "outputs": [
    {
     "name": "stdout",
     "output_type": "stream",
     "text": [
      "42000 785\n"
     ]
    }
   ],
   "source": [
    "m,n = np.shape(data)\n",
    "print(m,n)"
   ]
  },
  {
   "cell_type": "code",
   "execution_count": 114,
   "metadata": {
    "execution": {
     "iopub.execute_input": "2025-07-10T14:29:37.795003Z",
     "iopub.status.busy": "2025-07-10T14:29:37.794697Z",
     "iopub.status.idle": "2025-07-10T14:29:38.369827Z",
     "shell.execute_reply": "2025-07-10T14:29:38.369062Z",
     "shell.execute_reply.started": "2025-07-10T14:29:37.794974Z"
    },
    "trusted": true
   },
   "outputs": [],
   "source": [
    "np.random.shuffle(data)"
   ]
  },
  {
   "cell_type": "code",
   "execution_count": 115,
   "metadata": {
    "execution": {
     "iopub.execute_input": "2025-07-10T14:29:38.371908Z",
     "iopub.status.busy": "2025-07-10T14:29:38.371333Z",
     "iopub.status.idle": "2025-07-10T14:29:38.524738Z",
     "shell.execute_reply": "2025-07-10T14:29:38.523598Z",
     "shell.execute_reply.started": "2025-07-10T14:29:38.371876Z"
    },
    "trusted": true
   },
   "outputs": [],
   "source": [
    "data_dev = data[0:1000].T\n",
    "Y_dev = data_dev[0]\n",
    "X_dev = data_dev[1:n]\n",
    "X_dev = X_dev / 255.\n",
    "\n",
    "data_train = data[1000:m].T\n",
    "Y_train = data_train[0]\n",
    "X_train = data_train[1:n]\n",
    "X_train = X_train / 255.\n",
    "_,m_train = X_train.shape"
   ]
  },
  {
   "cell_type": "code",
   "execution_count": 116,
   "metadata": {
    "execution": {
     "iopub.execute_input": "2025-07-10T14:29:39.296649Z",
     "iopub.status.busy": "2025-07-10T14:29:39.296262Z",
     "iopub.status.idle": "2025-07-10T14:29:39.302380Z",
     "shell.execute_reply": "2025-07-10T14:29:39.301564Z",
     "shell.execute_reply.started": "2025-07-10T14:29:39.296625Z"
    },
    "trusted": true
   },
   "outputs": [
    {
     "data": {
      "text/plain": [
       "array([3, 0, 0, ..., 4, 5, 4])"
      ]
     },
     "execution_count": 116,
     "metadata": {},
     "output_type": "execute_result"
    }
   ],
   "source": [
    "Y_train"
   ]
  },
  {
   "cell_type": "code",
   "execution_count": 117,
   "metadata": {
    "execution": {
     "iopub.execute_input": "2025-07-10T14:29:40.117536Z",
     "iopub.status.busy": "2025-07-10T14:29:40.117160Z",
     "iopub.status.idle": "2025-07-10T14:29:40.123461Z",
     "shell.execute_reply": "2025-07-10T14:29:40.122592Z",
     "shell.execute_reply.started": "2025-07-10T14:29:40.117510Z"
    },
    "trusted": true
   },
   "outputs": [
    {
     "data": {
      "text/plain": [
       "(784,)"
      ]
     },
     "execution_count": 117,
     "metadata": {},
     "output_type": "execute_result"
    }
   ],
   "source": [
    "X_train[:, 0].shape"
   ]
  },
  {
   "cell_type": "markdown",
   "metadata": {},
   "source": [
    "Our NN will have a simple two-layer architecture. Input layer $a^{[0]}$ will have 784 units corresponding to the 784 pixels in each 28x28 input image. A hidden layer $a^{[1]}$ will have 10 units with ReLU activation, and finally our output layer $a^{[2]}$ will have 10 units corresponding to the ten digit classes with softmax activation.\n",
    "\n",
    "**Forward propagation**\n",
    "\n",
    "$$Z^{[1]} = W^{[1]} X + b^{[1]}$$\n",
    "$$A^{[1]} = g_{\\text{ReLU}}(Z^{[1]}))$$\n",
    "$$Z^{[2]} = W^{[2]} A^{[1]} + b^{[2]}$$\n",
    "$$A^{[2]} = g_{\\text{softmax}}(Z^{[2]})$$\n",
    "\n",
    "**Backward propagation**\n",
    "\n",
    "$$dZ^{[2]} = A^{[2]} - Y$$\n",
    "$$dW^{[2]} = \\frac{1}{m} dZ^{[2]} A^{[1]T}$$\n",
    "$$dB^{[2]} = \\frac{1}{m} \\Sigma {dZ^{[2]}}$$\n",
    "$$dZ^{[1]} = W^{[2]T} dZ^{[2]} .* g^{[1]\\prime} (z^{[1]})$$\n",
    "$$dW^{[1]} = \\frac{1}{m} dZ^{[1]} A^{[0]T}$$\n",
    "$$dB^{[1]} = \\frac{1}{m} \\Sigma {dZ^{[1]}}$$\n",
    "\n",
    "**Parameter updates**\n",
    "\n",
    "$$W^{[2]} := W^{[2]} - \\alpha dW^{[2]}$$\n",
    "$$b^{[2]} := b^{[2]} - \\alpha db^{[2]}$$\n",
    "$$W^{[1]} := W^{[1]} - \\alpha dW^{[1]}$$\n",
    "$$b^{[1]} := b^{[1]} - \\alpha db^{[1]}$$\n",
    "\n",
    "**Vars and shapes**\n",
    "\n",
    "Forward prop\n",
    "\n",
    "- $A^{[0]} = X$: 784 x m\n",
    "- $Z^{[1]} \\sim A^{[1]}$: 10 x m\n",
    "- $W^{[1]}$: 10 x 784 (as $W^{[1]} A^{[0]} \\sim Z^{[1]}$)\n",
    "- $B^{[1]}$: 10 x 1\n",
    "- $Z^{[2]} \\sim A^{[2]}$: 10 x m\n",
    "- $W^{[1]}$: 10 x 10 (as $W^{[2]} A^{[1]} \\sim Z^{[2]}$)\n",
    "- $B^{[2]}$: 10 x 1\n",
    "\n",
    "Backprop\n",
    "\n",
    "- $dZ^{[2]}$: 10 x m ($~A^{[2]}$)\n",
    "- $dW^{[2]}$: 10 x 10\n",
    "- $dB^{[2]}$: 10 x 1\n",
    "- $dZ^{[1]}$: 10 x m ($~A^{[1]}$)\n",
    "- $dW^{[1]}$: 10 x 10\n",
    "- $dB^{[1]}$: 10 x 1"
   ]
  },
  {
   "cell_type": "code",
   "execution_count": 121,
   "metadata": {
    "execution": {
     "iopub.execute_input": "2025-07-10T14:30:53.962307Z",
     "iopub.status.busy": "2025-07-10T14:30:53.961918Z",
     "iopub.status.idle": "2025-07-10T14:30:53.972903Z",
     "shell.execute_reply": "2025-07-10T14:30:53.971732Z",
     "shell.execute_reply.started": "2025-07-10T14:30:53.962279Z"
    },
    "trusted": true
   },
   "outputs": [],
   "source": [
    "def init_params():\n",
    "    W1 = np.random.rand(10, 784) - 0.5\n",
    "    b1 = np.random.rand(10, 1) - 0.5\n",
    "    W2 = np.random.rand(10, 10) - 0.5\n",
    "    b2 = np.random.rand(10, 1) - 0.5\n",
    "    return W1, b1, W2, b2\n",
    "\n",
    "def ReLU(Z):\n",
    "    return np.maximum(Z, 0)\n",
    "\n",
    "def softmax(Z):\n",
    "    A = np.exp(Z) / sum(np.exp(Z))\n",
    "    return A\n",
    "    \n",
    "def forward_prop(W1, b1, W2, b2, X):\n",
    "    Z1 = W1.dot(X) + b1\n",
    "    A1 = ReLU(Z1)\n",
    "    Z2 = W2.dot(A1) + b2\n",
    "    A2 = softmax(Z2)\n",
    "    return Z1, A1, Z2, A2\n",
    "\n",
    "def ReLU_deriv(Z):\n",
    "    return Z > 0\n",
    "\n",
    "def one_hot(Y):\n",
    "    one_hot_Y = np.zeros((Y.size, Y.max() + 1))\n",
    "    one_hot_Y[np.arange(Y.size), Y] = 1\n",
    "    one_hot_Y = one_hot_Y.T\n",
    "    return one_hot_Y\n",
    "\n",
    "def backward_prop(Z1, A1, Z2, A2, W1, W2, X, Y):\n",
    "    one_hot_Y = one_hot(Y)\n",
    "    dZ2 = A2 - one_hot_Y\n",
    "    dW2 = 1 / m * dZ2.dot(A1.T)\n",
    "    db2 = 1 / m * np.sum(dZ2)\n",
    "    dZ1 = W2.T.dot(dZ2) * ReLU_deriv(Z1)\n",
    "    dW1 = 1 / m * dZ1.dot(X.T)\n",
    "    db1 = 1 / m * np.sum(dZ1)\n",
    "    return dW1, db1, dW2, db2\n",
    "\n",
    "def update_params(W1, b1, W2, b2, dW1, db1, dW2, db2, alpha):\n",
    "    W1 = W1 - alpha * dW1\n",
    "    b1 = b1 - alpha * db1    \n",
    "    W2 = W2 - alpha * dW2  \n",
    "    b2 = b2 - alpha * db2    \n",
    "    return W1, b1, W2, b2"
   ]
  },
  {
   "cell_type": "code",
   "execution_count": null,
   "metadata": {
    "execution": {
     "iopub.execute_input": "2025-07-10T14:30:54.435622Z",
     "iopub.status.busy": "2025-07-10T14:30:54.435270Z",
     "iopub.status.idle": "2025-07-10T14:30:54.442787Z",
     "shell.execute_reply": "2025-07-10T14:30:54.441866Z",
     "shell.execute_reply.started": "2025-07-10T14:30:54.435597Z"
    },
    "trusted": true
   },
   "outputs": [],
   "source": [
    "def get_predictions(A2):\n",
    "    return np.argmax(A2, 0)\n",
    "\n",
    "def get_accuracy(predictions, Y):\n",
    "    print(predictions, Y)\n",
    "    return np.sum(predictions == Y) / Y.size\n",
    "\n",
    "def gradient_descent(X, Y, iterations, alpha):\n",
    "    W1, b1, W2, b2 = init_params()\n",
    "    for i in range(iterations):\n",
    "        Z1, A1, Z2, A2 = forward_prop(W1, b1, W2, b2, X)\n",
    "        dW1, db1, dW2, db2 = backward_prop(Z1, A1, Z2, A2, W1, W2, X, Y)\n",
    "        W1, b1, W2, b2 = update_params(W1, b1, W2, b2, dW1, db1, dW2, db2, alpha)\n",
    "\n",
    "        if i % 50 == 0:\n",
    "            print('Iteration: ', i)\n",
    "            print('Accuracy: ', get_accuracy(get_predictions(A2), Y))\n",
    "\n",
    "    return W1, b1, W2, b2"
   ]
  },
  {
   "cell_type": "code",
   "execution_count": 124,
   "metadata": {
    "execution": {
     "iopub.execute_input": "2025-07-10T14:31:43.179806Z",
     "iopub.status.busy": "2025-07-10T14:31:43.179522Z",
     "iopub.status.idle": "2025-07-10T14:32:21.325093Z",
     "shell.execute_reply": "2025-07-10T14:32:21.324163Z",
     "shell.execute_reply.started": "2025-07-10T14:31:43.179785Z"
    },
    "trusted": true
   },
   "outputs": [
    {
     "name": "stdout",
     "output_type": "stream",
     "text": [
      "Iteration:  0\n",
      "[0 8 8 ... 6 6 6] [3 0 0 ... 4 5 4]\n",
      "Accuracy:  0.07121951219512195\n",
      "Iteration:  50\n",
      "[3 0 0 ... 6 9 6] [3 0 0 ... 4 5 4]\n",
      "Accuracy:  0.5360243902439025\n",
      "Iteration:  100\n",
      "[3 0 0 ... 4 9 6] [3 0 0 ... 4 5 4]\n",
      "Accuracy:  0.6639024390243903\n",
      "Iteration:  150\n",
      "[3 0 0 ... 4 9 9] [3 0 0 ... 4 5 4]\n",
      "Accuracy:  0.7240975609756097\n",
      "Iteration:  200\n",
      "[3 0 0 ... 4 5 9] [3 0 0 ... 4 5 4]\n",
      "Accuracy:  0.7618780487804878\n",
      "Iteration:  250\n",
      "[3 0 0 ... 4 5 9] [3 0 0 ... 4 5 4]\n",
      "Accuracy:  0.7899512195121952\n",
      "Iteration:  300\n",
      "[3 0 0 ... 4 5 9] [3 0 0 ... 4 5 4]\n",
      "Accuracy:  0.8097317073170732\n",
      "Iteration:  350\n",
      "[3 0 0 ... 4 5 4] [3 0 0 ... 4 5 4]\n",
      "Accuracy:  0.8236341463414634\n",
      "Iteration:  400\n",
      "[3 0 0 ... 4 5 4] [3 0 0 ... 4 5 4]\n",
      "Accuracy:  0.8346585365853658\n",
      "Iteration:  450\n",
      "[3 0 0 ... 4 5 4] [3 0 0 ... 4 5 4]\n",
      "Accuracy:  0.8440487804878049\n"
     ]
    }
   ],
   "source": [
    "W1, b1, W2, b2 = gradient_descent(X_train, Y_train, 500, 0.1)"
   ]
  },
  {
   "cell_type": "code",
   "execution_count": 133,
   "metadata": {
    "execution": {
     "iopub.execute_input": "2025-07-10T14:37:49.006554Z",
     "iopub.status.busy": "2025-07-10T14:37:49.006226Z",
     "iopub.status.idle": "2025-07-10T14:37:49.013588Z",
     "shell.execute_reply": "2025-07-10T14:37:49.012483Z",
     "shell.execute_reply.started": "2025-07-10T14:37:49.006531Z"
    },
    "trusted": true
   },
   "outputs": [],
   "source": [
    "def make_predictions(X, W1, b1, W2, b2):\n",
    "    _, _, _, A2 = forward_prop(W1, b1, W2, b2, X)\n",
    "    predictions = get_predictions(A2)\n",
    "    return predictions\n",
    "\n",
    "def test_prediction(index, W1, b1, W2, b2):\n",
    "    current_image = X_train[:, index, None]\n",
    "    prediction = make_predictions(current_image, W1, b1, W2, b2)\n",
    "    label = Y_train[index]\n",
    "    print(\"Prediction: \", prediction)\n",
    "    print(\"Label: \", label)\n",
    "\n",
    "    current_image = current_image.reshape((28,28)) * 255\n",
    "    plt.gray()\n",
    "    plt.imshow(current_image, interpolation='nearest')\n",
    "    plt.show()"
   ]
  },
  {
   "cell_type": "code",
   "execution_count": 136,
   "metadata": {
    "execution": {
     "iopub.execute_input": "2025-07-10T14:37:59.719416Z",
     "iopub.status.busy": "2025-07-10T14:37:59.719038Z",
     "iopub.status.idle": "2025-07-10T14:37:59.874454Z",
     "shell.execute_reply": "2025-07-10T14:37:59.873475Z",
     "shell.execute_reply.started": "2025-07-10T14:37:59.719391Z"
    },
    "trusted": true
   },
   "outputs": [
    {
     "name": "stdout",
     "output_type": "stream",
     "text": [
      "Prediction:  [3]\n",
      "Label:  3\n"
     ]
    },
    {
     "data": {
      "image/png": "[encoded data removed]",
      "text/plain": [
       "<Figure size 640x480 with 1 Axes>"
      ]
     },
     "metadata": {},
     "output_type": "display_data"
    }
   ],
   "source": [
    "test_prediction(101, W1, b1, W2, b2)"
   ]
  },
  {
   "cell_type": "code",
   "execution_count": 137,
   "metadata": {
    "execution": {
     "iopub.execute_input": "2025-07-10T14:39:23.323878Z",
     "iopub.status.busy": "2025-07-10T14:39:23.323518Z",
     "iopub.status.idle": "2025-07-10T14:39:23.337300Z",
     "shell.execute_reply": "2025-07-10T14:39:23.336349Z",
     "shell.execute_reply.started": "2025-07-10T14:39:23.323851Z"
    },
    "trusted": true
   },
   "outputs": [
    {
     "name": "stdout",
     "output_type": "stream",
     "text": [
      "[4 9 4 3 3 9 7 2 3 3 1 9 2 6 4 6 3 1 1 6 6 4 7 9 7 3 7 5 6 9 4 4 6 4 3 8 6\n",
      " 5 2 2 9 8 3 9 8 8 3 7 2 8 9 2 2 8 0 2 1 8 7 6 1 6 7 2 0 0 1 2 7 7 6 0 4 2\n",
      " 6 1 9 4 2 4 7 6 6 3 2 1 1 5 5 5 3 3 8 5 1 2 9 9 9 6 4 0 7 4 1 8 9 7 8 0 9\n",
      " 2 6 6 7 2 2 4 5 4 9 9 7 7 3 9 1 1 4 6 0 2 2 7 7 0 6 6 7 7 1 2 2 9 8 7 1 8\n",
      " 9 3 0 3 2 4 8 9 5 4 4 2 9 4 6 7 2 6 6 5 8 8 5 1 6 9 7 8 4 6 8 2 7 7 4 3 6\n",
      " 0 3 6 1 6 7 1 7 0 8 9 2 0 2 8 1 6 1 1 8 9 8 8 9 7 7 6 0 7 2 4 9 5 8 4 0 7\n",
      " 5 0 7 8 7 0 3 8 7 2 5 4 8 6 9 9 2 2 9 8 3 9 0 2 0 5 0 1 6 8 9 6 3 0 7 4 9\n",
      " 1 5 9 1 0 2 9 4 5 2 3 3 5 2 9 6 0 4 1 6 5 4 9 9 9 6 0 7 1 6 5 3 1 6 3 8 6\n",
      " 3 3 0 9 2 1 8 5 1 7 9 7 9 0 7 8 8 1 3 5 3 8 5 9 5 9 9 3 2 8 1 6 7 7 4 6 6\n",
      " 9 5 8 6 6 3 0 0 1 1 2 5 8 7 7 8 1 7 3 4 2 5 6 4 3 0 1 6 6 3 5 2 8 2 8 5 1\n",
      " 1 5 4 4 8 7 4 7 6 6 8 0 3 2 8 4 6 8 6 5 3 8 9 0 7 0 3 9 3 1 9 4 8 8 6 3 1\n",
      " 4 1 7 9 7 3 2 5 5 9 9 4 6 8 1 1 9 8 6 3 0 6 6 9 8 0 3 9 7 1 9 7 0 9 1 6 3\n",
      " 1 1 3 7 3 6 2 8 6 9 0 3 7 5 1 0 1 6 3 7 1 7 4 1 2 9 7 3 2 7 4 6 2 0 6 3 9\n",
      " 1 2 4 6 7 1 4 4 2 6 7 6 1 1 9 1 6 5 2 3 6 9 1 0 3 0 5 1 4 9 0 0 3 0 6 4 7\n",
      " 9 4 7 4 5 7 9 3 4 2 6 9 3 1 5 0 7 1 0 2 4 9 4 5 4 3 1 8 2 3 0 8 3 2 9 1 6\n",
      " 1 8 9 4 4 8 2 1 1 9 3 0 2 9 3 3 4 1 9 6 9 0 1 4 4 7 6 1 6 8 2 3 1 6 6 0 5\n",
      " 4 5 1 8 1 0 8 5 1 4 1 4 4 4 1 1 8 8 1 0 0 7 1 1 1 1 8 6 1 0 9 6 3 6 2 9 6\n",
      " 9 7 7 7 7 3 3 0 6 4 7 6 5 1 5 2 6 7 8 8 3 6 3 1 8 5 0 9 3 1 4 0 6 9 7 9 9\n",
      " 3 9 8 1 9 9 2 1 5 8 8 9 9 1 6 1 5 0 2 7 4 8 4 1 4 9 1 4 2 6 0 4 6 6 9 7 9\n",
      " 6 4 9 4 0 9 3 7 1 8 7 3 9 2 1 5 3 4 8 0 3 1 5 8 9 3 8 4 5 9 4 7 9 0 6 8 7\n",
      " 9 1 7 5 1 7 9 0 7 7 4 5 2 9 6 7 7 0 3 9 2 2 7 7 3 2 1 7 7 4 0 7 4 3 0 8 7\n",
      " 9 4 9 5 4 0 7 3 0 9 8 6 4 5 7 0 0 7 7 7 1 7 6 0 4 2 1 4 1 0 6 7 0 2 3 4 2\n",
      " 7 7 1 7 7 3 0 2 8 6 3 6 0 7 6 3 1 4 2 3 0 0 0 2 7 4 6 1 8 8 6 8 4 2 3 9 3\n",
      " 2 5 0 1 3 0 1 4 8 7 3 1 9 4 3 9 2 2 7 2 6 6 6 6 6 6 4 1 7 5 6 6 5 1 7 9 5\n",
      " 1 4 8 6 6 4 4 4 8 0 9 9 8 6 4 5 2 1 5 3 6 2 4 0 4 7 0 1 6 0 9 5 2 5 7 1 4\n",
      " 3 6 3 6 1 6 0 1 9 8 4 7 4 8 7 4 1 6 0 2 9 7 7 1 7 1 6 9 7 9 0 8 8 5 1 2 7\n",
      " 2 8 0 1 3 7 3 6 5 8 5 7 3 4 7 5 0 2 9 4 1 1 7 6 9 4 2 4 1 9 4 2 2 2 3 0 1\n",
      " 8] [4 9 4 3 3 9 7 2 3 3 1 9 6 6 4 6 3 1 2 6 6 4 7 9 3 3 7 3 4 9 4 4 6 4 3 5 6\n",
      " 5 2 2 7 8 3 9 3 8 3 7 8 8 9 2 2 8 0 2 1 8 7 6 1 6 7 2 0 0 1 2 9 7 6 0 4 2\n",
      " 6 1 9 8 2 4 7 6 6 5 2 1 1 5 5 5 3 3 5 5 1 2 9 9 7 6 4 0 7 4 1 8 7 7 8 0 9\n",
      " 2 6 6 7 2 2 4 3 4 9 9 7 7 3 9 1 1 4 6 6 2 7 7 7 0 6 6 7 9 1 2 2 4 8 7 1 8\n",
      " 9 5 0 3 2 4 8 9 5 6 4 2 9 4 6 7 2 6 6 5 8 8 5 1 6 9 3 8 4 2 8 2 7 7 4 3 6\n",
      " 0 5 6 1 6 7 1 7 0 8 9 2 0 2 8 7 6 1 1 8 9 8 8 9 9 7 6 0 2 2 4 9 5 8 5 0 7\n",
      " 5 0 7 8 9 0 3 8 7 2 5 4 8 6 5 4 2 2 9 8 3 9 0 2 0 0 0 1 6 8 7 6 5 0 7 4 9\n",
      " 1 0 9 1 0 2 9 4 5 2 3 3 5 2 9 6 0 4 1 6 5 4 9 7 8 6 0 7 1 6 5 5 1 5 3 8 5\n",
      " 3 5 0 9 2 1 8 5 1 3 4 7 9 0 7 8 8 1 3 5 8 8 5 9 5 9 9 3 1 8 1 6 7 7 4 8 6\n",
      " 9 8 8 6 6 3 0 0 1 8 2 5 5 7 9 8 1 7 2 4 7 0 6 4 3 0 1 6 6 3 5 2 8 2 5 5 8\n",
      " 1 5 4 4 1 9 3 7 2 6 9 0 3 2 5 4 6 1 3 5 3 8 9 0 7 0 3 9 3 1 7 4 8 8 6 3 1\n",
      " 4 1 7 9 7 3 2 8 5 8 4 4 6 8 1 1 9 8 6 3 0 6 6 9 8 0 3 9 7 1 8 7 0 9 1 6 3\n",
      " 1 1 3 7 3 6 0 8 6 9 0 3 7 5 1 0 1 6 3 7 1 9 4 1 2 9 7 3 2 7 4 6 9 0 6 5 9\n",
      " 1 2 4 6 7 1 2 4 2 6 7 6 1 1 9 1 6 5 2 3 6 8 1 0 3 0 5 1 4 9 0 0 5 0 6 4 7\n",
      " 9 4 7 4 5 9 9 3 4 2 6 4 3 1 5 0 7 1 0 2 4 9 4 8 4 3 2 8 2 3 0 8 5 2 9 1 6\n",
      " 1 8 9 4 4 8 2 1 1 4 3 0 2 9 3 3 4 1 9 6 3 5 1 4 4 7 6 1 6 8 2 3 1 6 6 9 5\n",
      " 4 5 1 8 3 0 3 5 1 4 1 4 4 4 1 1 1 8 1 5 0 7 1 1 1 1 8 6 1 0 9 6 1 6 2 9 6\n",
      " 9 7 7 7 7 3 3 0 1 4 7 6 5 1 5 2 6 7 2 8 3 5 3 1 8 5 0 9 3 1 4 0 6 4 7 4 9\n",
      " 3 5 8 1 9 7 2 2 5 8 3 9 9 1 6 1 5 0 2 2 4 8 4 1 9 7 1 4 2 6 0 4 6 6 9 7 9\n",
      " 6 4 9 9 9 8 3 7 1 8 7 9 9 2 1 5 5 4 8 0 1 1 6 8 9 3 8 4 5 8 6 7 7 0 6 8 7\n",
      " 9 1 7 5 1 7 9 0 7 2 9 3 7 9 6 7 7 0 6 9 2 2 7 7 3 2 1 7 7 4 0 7 4 5 5 0 7\n",
      " 5 4 9 8 4 0 7 3 0 9 4 4 4 5 7 0 0 7 7 7 1 7 6 0 4 2 1 9 1 0 6 7 0 2 3 4 2\n",
      " 7 7 1 7 7 3 0 2 2 2 3 6 2 9 6 3 1 4 2 5 0 0 0 2 7 4 2 1 8 8 6 8 9 2 3 9 3\n",
      " 2 5 0 1 3 0 1 4 8 9 3 1 9 4 9 9 2 2 0 2 6 6 2 6 6 5 4 1 7 5 6 6 5 1 7 9 3\n",
      " 1 9 1 6 6 4 4 4 8 0 9 9 5 2 4 5 2 1 5 1 6 2 4 0 4 7 0 1 2 0 9 5 2 5 7 1 4\n",
      " 3 6 3 6 2 6 0 1 9 8 4 7 4 8 7 4 8 6 0 2 9 9 7 1 7 1 6 9 7 9 0 8 8 8 1 2 2\n",
      " 2 1 0 1 3 7 3 4 5 8 5 7 3 4 7 5 0 2 9 4 1 1 7 6 5 4 2 4 1 7 4 2 2 2 5 0 1\n",
      " 8]\n"
     ]
    },
    {
     "data": {
      "text/plain": [
       "0.846"
      ]
     },
     "execution_count": 137,
     "metadata": {},
     "output_type": "execute_result"
    }
   ],
   "source": [
    "# Cross validation accuracy\n",
    "dev_predictions = make_predictions(X_dev, W1, b1, W2, b2)\n",
    "get_accuracy(dev_predictions, Y_dev)"
   ]
  },
  {
   "cell_type": "markdown",
   "metadata": {},
   "source": [
    "84% accuracy on CV so model generalized well to the training set"
   ]
  },
  {
   "cell_type": "code",
   "execution_count": null,
   "metadata": {
    "trusted": true
   },
   "outputs": [],
   "source": []
  }
 ],
 "metadata": {
  "kaggle": {
   "accelerator": "none",
   "dataSources": [
    {
     "datasetId": 3147,
     "sourceId": 5196,
     "sourceType": "datasetVersion"
    }
   ],
   "dockerImageVersionId": 31089,
   "isGpuEnabled": false,
   "isInternetEnabled": true,
   "language": "python",
   "sourceType": "notebook"
  },
  "kernelspec": {
   "display_name": "Python 3",
   "language": "python",
   "name": "python3"
  },
  "language_info": {
   "codemirror_mode": {
    "name": "ipython",
    "version": 3
   },
   "file_extension": ".py",
   "mimetype": "text/x-python",
   "name": "python",
   "nbconvert_exporter": "python",
   "pygments_lexer": "ipython3",
   "version": "3.11.13"
  }
 },
 "nbformat": 4,
 "nbformat_minor": 4
}
